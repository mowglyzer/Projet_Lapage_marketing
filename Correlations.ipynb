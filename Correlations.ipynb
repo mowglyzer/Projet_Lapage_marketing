{
 "cells": [
  {
   "cell_type": "markdown",
   "id": "c1f4303c",
   "metadata": {},
   "source": [
    "<div style=\"display: flex; background-color: RGB(255,114,0);\" >\n",
    "<h1 style=\"margin: auto; padding: 30px; \"> Corrélations</h1>\n",
    "</div>"
   ]
  },
  {
   "cell_type": "markdown",
   "id": "621565f1",
   "metadata": {},
   "source": [
    "**Les corrélations indiquent si deux variables sont linéairement équivalentes.**\n",
    "\n",
    "Voici quelques questions supplémentaires pour nous aider à mieux comprendre les ventes enregistrées.\n",
    "\n",
    "- Y a-t-il une corrélation entre le sexe des clients et les catégories de produits achetés ?\n",
    "- Y a-t-il une corrélation entre l'âge des clients et le montant total des achats ?\n",
    "- Y a-t-il une corrélation entre l'âge des clients et la fréquence d’achat (nombre d'achats par mois) ?\n",
    "- Y a-t-il une corrélation entre l'âge des clients et la taille du panier moyen (en nombre d’articles) ?\n",
    "- Y a-t-il une corrélation entre l'âge des clients et les catégories de produits achetés ?"
   ]
  }
 ],
 "metadata": {
  "kernelspec": {
   "display_name": "Python 3",
   "language": "python",
   "name": "python3"
  },
  "language_info": {
   "codemirror_mode": {
    "name": "ipython",
    "version": 3
   },
   "file_extension": ".py",
   "mimetype": "text/x-python",
   "name": "python",
   "nbconvert_exporter": "python",
   "pygments_lexer": "ipython3",
   "version": "3.8.8"
  }
 },
 "nbformat": 4,
 "nbformat_minor": 5
}
