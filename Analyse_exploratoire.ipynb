{
 "cells": [
  {
   "cell_type": "markdown",
   "id": "663ef877",
   "metadata": {},
   "source": [
    "<div style=\"display: flex; background-color: RGB(255,114,0);\" >\n",
    "<h1 style=\"margin: auto; padding: 30px; \"> Analyse exploratoire </h1>\n",
    "</div>"
   ]
  },
  {
   "cell_type": "markdown",
   "id": "74f5def4",
   "metadata": {},
   "source": [
    "**Variable quantitative :**\n",
    "- Les prix produits\n",
    "\n",
    "**Variables qualitatives :**\n",
    "- client_id, id_prod, session_id\n",
    "- Le sexe des clients (f ou m)\n",
    "- Les catégories produits (0, 1 ou 2)\n",
    " \n",
    "**Notre analyse portera principalement sur les dimensions suivantes :**\n",
    "\n",
    "- L'évolution des ventes (Chiffre d'Affaires)\n",
    "- Les prix produits pratiqués\n",
    "- La répartition par Catégorie\n",
    "- La répartition démographique (par âge et sexe client)\n",
    "- Le comportement client (fidélisation)\n",
    "- Corrélation, lien(s) possible(s) entre les variables "
   ]
  },
  {
   "cell_type": "markdown",
   "id": "cc6f0037",
   "metadata": {},
   "source": [
    "<div style=\"background-color: RGB(51,165,182);\" >\n",
    "<h2 style=\"margin: auto; padding: 20px; color:#fff; \"> 1. Analyse de l'évolution du chiffre d'affaires</h2>\n",
    "</div> "
   ]
  },
  {
   "cell_type": "code",
   "execution_count": 6,
   "id": "aac465a1",
   "metadata": {},
   "outputs": [],
   "source": [
    "#.........."
   ]
  },
  {
   "cell_type": "markdown",
   "id": "fad56f60",
   "metadata": {},
   "source": [
    "<div style=\"background-color: RGB(51,165,182);\" >\n",
    "<h2 style=\"margin: auto; padding: 20px; color:#fff; \">2. Analyse des prix</h2>\n",
    "</div>   "
   ]
  },
  {
   "cell_type": "markdown",
   "id": "49f0ce99",
   "metadata": {},
   "source": [
    "<div style=\"border: 1px solid RGB(51,165,182);\" >\n",
    "<h3 style=\"margin: auto; padding: 20px; color: RGB(51,165,182); \">2.1 -Dispersion des prix produits (histogramme)</h3>\n",
    "</div>\n"
   ]
  },
  {
   "cell_type": "code",
   "execution_count": null,
   "id": "0baa5ced",
   "metadata": {},
   "outputs": [],
   "source": []
  },
  {
   "cell_type": "markdown",
   "id": "a62dca99",
   "metadata": {},
   "source": [
    " <div style=\"border: 1px solid RGB(51,165,182);\" >\n",
    "<h3 style=\"margin: auto; padding: 20px; color: RGB(51,165,182); \">2.2 -  Mesures de tendance centrale (courbe de Lorenz)</h3>\n",
    "</div>\n",
    "  \n",
    "   "
   ]
  },
  {
   "cell_type": "code",
   "execution_count": null,
   "id": "d0df6e21",
   "metadata": {},
   "outputs": [],
   "source": []
  },
  {
   "cell_type": "markdown",
   "id": "8a8ee375",
   "metadata": {},
   "source": [
    "<div style=\"background-color: RGB(51,165,182);\" >\n",
    "<h2 style=\"margin: auto; padding: 20px; color:#fff; \">3. Analyse de la variable : categ </h2>\n",
    "</div>  \n"
   ]
  },
  {
   "cell_type": "markdown",
   "id": "8607e9b1",
   "metadata": {},
   "source": [
    "<div style=\"border: 1px solid RGB(51,165,182);\" >\n",
    "<h3 style=\"margin: auto; padding: 20px; color: RGB(51,165,182); \">3.1 - Répartition des catégories </h3>\n",
    "</div>\n"
   ]
  },
  {
   "cell_type": "code",
   "execution_count": null,
   "id": "8e185234",
   "metadata": {},
   "outputs": [],
   "source": []
  },
  {
   "cell_type": "markdown",
   "id": "4a34c7db",
   "metadata": {},
   "source": [
    " <div style=\"border: 1px solid RGB(51,165,182);\" >\n",
    "<h3 style=\"margin: auto; padding: 20px; color: RGB(51,165,182); \">3.2 - Dispersion des prix de vente par catégorie (boxplot)  </h3>\n",
    "</div>\n",
    "  "
   ]
  },
  {
   "cell_type": "code",
   "execution_count": null,
   "id": "28f79b8f",
   "metadata": {},
   "outputs": [],
   "source": []
  },
  {
   "cell_type": "markdown",
   "id": "60449be9",
   "metadata": {},
   "source": [
    "<div style=\"background-color: RGB(51,165,182);\" >\n",
    "<h2 style=\"margin: auto; padding: 20px; color:#fff; \">4. Analyse démographique (Age) </h2>\n",
    "</div>   "
   ]
  },
  {
   "cell_type": "markdown",
   "id": "bf007e4a",
   "metadata": {},
   "source": [
    " <div style=\"border: 1px solid RGB(51,165,182);\" >\n",
    "<h3 style=\"margin: auto; padding: 20px; color: RGB(51,165,182); \">4.1 - Distribution des âges clients (histogramme)  </h3>\n",
    "</div>"
   ]
  },
  {
   "cell_type": "code",
   "execution_count": null,
   "id": "30118efe",
   "metadata": {},
   "outputs": [],
   "source": []
  },
  {
   "cell_type": "markdown",
   "id": "3e1452dc",
   "metadata": {},
   "source": [
    " <div style=\"border: 1px solid RGB(51,165,182);\" >\n",
    "<h3 style=\"margin: auto; padding: 20px; color: RGB(51,165,182); \">4.2 - Mesure de concentration des âges clients (Lorenz)  </h3>\n",
    "</div> "
   ]
  },
  {
   "cell_type": "code",
   "execution_count": null,
   "id": "698938f6",
   "metadata": {},
   "outputs": [],
   "source": []
  },
  {
   "cell_type": "markdown",
   "id": "73e4f4b0",
   "metadata": {},
   "source": [
    "<div style=\"background-color: RGB(51,165,182);\" >\n",
    "<h2 style=\"margin: auto; padding: 20px; color:#fff; \">5. Analyse de variable : sex </h2>\n",
    "</div>   "
   ]
  },
  {
   "cell_type": "markdown",
   "id": "c2e914bb",
   "metadata": {},
   "source": [
    " <div style=\"border: 1px solid RGB(51,165,182);\" >\n",
    "<h3 style=\"margin: auto; padding: 20px; color: RGB(51,165,182); \">5.1 - Répartition Hommes/Femmes selon les catégories  </h3>\n",
    "</div>  "
   ]
  },
  {
   "cell_type": "markdown",
   "id": "fb90af28",
   "metadata": {},
   "source": [
    "<div style=\"background-color: RGB(51,165,182);\" >\n",
    "<h2 style=\"margin: auto; padding: 20px; color:#fff; \">6. Analyse comportementale des clients </h2>\n",
    "</div>   \n"
   ]
  },
  {
   "cell_type": "markdown",
   "id": "b0a5ae22",
   "metadata": {},
   "source": [
    " <div style=\"border: 1px solid RGB(51,165,182);\" >\n",
    "<h3 style=\"margin: auto; padding: 20px; color: RGB(51,165,182); \">6.1 - Analyse des transactions par client (fidélité)  </h3>\n",
    "</div> \n"
   ]
  },
  {
   "cell_type": "code",
   "execution_count": null,
   "id": "1ce12e51",
   "metadata": {},
   "outputs": [],
   "source": []
  },
  {
   "cell_type": "markdown",
   "id": "3f52fdc4",
   "metadata": {},
   "source": [
    "<div style=\"border: 1px solid RGB(51,165,182);\" >\n",
    "<h3 style=\"margin: auto; padding: 20px; color: RGB(51,165,182); \">6.2 - Analyse des centres d'intérêt client </h3>\n",
    "</div> \n"
   ]
  },
  {
   "cell_type": "code",
   "execution_count": null,
   "id": "d88773ce",
   "metadata": {},
   "outputs": [],
   "source": []
  }
 ],
 "metadata": {
  "kernelspec": {
   "display_name": "Python 3",
   "language": "python",
   "name": "python3"
  },
  "language_info": {
   "codemirror_mode": {
    "name": "ipython",
    "version": 3
   },
   "file_extension": ".py",
   "mimetype": "text/x-python",
   "name": "python",
   "nbconvert_exporter": "python",
   "pygments_lexer": "ipython3",
   "version": "3.8.8"
  }
 },
 "nbformat": 4,
 "nbformat_minor": 5
}
